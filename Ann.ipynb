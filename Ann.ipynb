{
  "nbformat": 4,
  "nbformat_minor": 0,
  "metadata": {
    "colab": {
      "provenance": []
    },
    "kernelspec": {
      "name": "python3",
      "display_name": "Python 3"
    },
    "language_info": {
      "name": "python"
    }
  },
  "cells": [
    {
      "cell_type": "code",
      "execution_count": null,
      "metadata": {
        "id": "q1-K-ovL7AK1"
      },
      "outputs": [],
      "source": [
        "import tensorflow as tf\n",
        "from tensorflow.keras import layers, models\n",
        "import matplotlib.pyplot as plt\n",
        "mnist=tf.keras.datasets.mnist\n",
        "(train_images,train_labels),(test_images,test_labels)=mnist.load_data()\n",
        "train_images=train_images/255.0\n",
        "test_images=test_images/255.0\n",
        "model=models.Sequential([\n",
        "    layers.Flatten(input_shape=(28,28)),\n",
        "    layers.Dense(128,activation='relu'),\n",
        "    layers.Dense(10,activation='softmax')\n",
        "])\n",
        "model.compile(optimizer='adam',\n",
        "              loss='sparse_categorical_crossentropy,'\n",
        "              metrics=[\"accuracy\"])\n",
        "model.fit(train_images,train_labels,,epochs=5)\n",
        "test_loss,test_acc=model.evaluate(test_images,test_labels,verbose=2)\n",
        "print(f'\\nTest Doğruluğpu:{test_acc}')\n",
        "predictions=model.predict(test_images)\n",
        "print(f'Tahmin edilen etiket:{predictions[0].argmax()}')\n",
        "print(f'Gerçek etiket:{test_labels[0]}')\n",
        "plt.imshow(test_images[0],cmap=plt.cm.binary)\n",
        "plt.show()\n"
      ]
    }
  ]
}